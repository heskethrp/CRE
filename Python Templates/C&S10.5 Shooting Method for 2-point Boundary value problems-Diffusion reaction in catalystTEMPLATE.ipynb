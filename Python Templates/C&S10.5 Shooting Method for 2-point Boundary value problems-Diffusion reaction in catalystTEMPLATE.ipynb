{
 "cells": [
  {
   "cell_type": "markdown",
   "metadata": {},
   "source": [
    "##### C&S10.5 Shooting Method for 2-point Boundary value problems-Diffusion reaction in catalyst"
   ]
  },
  {
   "cell_type": "markdown",
   "metadata": {},
   "source": [
    "$$\\frac{d}{dr}\\left(N_Ar^2\\right)=-k''aC_Ar^2$$\n",
    "$$N_A=-D_e\\frac{dC_A}{dr}$$\n",
    "$$\\eta=\\frac{\\text{rate observed}}{\\text{rate at }C_{A_s}}=\\frac{\\int_0^R k''aC_A4\\pi r^2 dr}{k''aC_{A_s}\\frac{4}{3} \\pi R^3}$$\n",
    "This gives 3 ODE's\n",
    "$$\\frac{d}{dr}\\left(N_Ar^2\\right)=-k''aC_Ar^2$$\n",
    "$$\\frac{dC_A}{dr}=\\frac{N_A}{-D_e}$$\n",
    "$$\\frac{d\\eta}{dr}=\\frac{3C_A r^2}{C_{A_s}R^3}$$"
   ]
  },
  {
   "cell_type": "markdown",
   "metadata": {},
   "source": [
    "In this problem we have split boundary conditions.  At $r=0$ we don't know $C_A=?$ but we know that $N_Ar^2=0$.  At the other boundary of $r=R$ we know $C_A=C_{A_s}$ but don't know  $N_Ar^2$.  So we need to guess $C_A|_{r=0}$ and then check at $r=R$ that $C_A=C_{A_s}=0.2 \\frac{mol}{cm^3}$.  For the $\\eta$ integral we will start summing at $r=0$ and $\\eta=0$ and the last value at $r=R$ will be the value of $\\eta$ at the given $\\phi=R\\sqrt{\\frac{k''aC_{A-s}^{n-1}}{D_e}}$."
   ]
  },
  {
   "cell_type": "markdown",
   "metadata": {},
   "source": [
    "In the secant method we will make 2 guesses of the value of $C_A$ at $r=0$.  Then we will integrate and check to see if $C_A=C_{A_s}=0.2 \\frac{mol}{cm^3}$.  The error will be $err=C_A - 0.2$.  At $r=R$ the value of $err$ should be zero. \n",
    "$$err(y_{0_{k}})\\equiv \\left. C_A \\right|_{r=R}-0.2$$ \n",
    "Remember from C&S6.4a that the <b>secant method </b>is just a <b>linear interpolation between pairs of points </b>.  \n",
    "In this case the pairs of points are the $(y_{0_{k-1}},err( y_{0_{k-1}} )$ or $(y_{0_{k}}, err( y_{0_k} ))$\n",
    "\n",
    "$$y_{0_{k+1}}=y_{0_k}-err(y_{0_k})$$\n",
    "$$y_{0_{k+1}}=y_{0_k}-err(y_{0_k})\\frac{ y_{0_k}-y_{0_{k-1}} } {err(y_{0_k})-err(y_{0_{k-1}})}$$\n",
    "Two initial values or guesses of y_0 are needed."
   ]
  },
  {
   "cell_type": "code",
   "execution_count": 1,
   "metadata": {},
   "outputs": [],
   "source": [
    "import numpy as np\n",
    "from scipy.integrate import solve_ivp\n",
    "import math\n",
    "import matplotlib.pyplot as plt"
   ]
  },
  {
   "cell_type": "code",
   "execution_count": 2,
   "metadata": {},
   "outputs": [],
   "source": [
    " def ODEfun(r,Yfuncvec):\n",
    "    CA = Yfuncvec[0] \n",
    "    NArr = Yfuncvec[1] \n",
    "    eta = Yfuncvec[2]\n",
    "    \n",
    "    CAs=0.2\n",
    "    R=0.5\n",
    "    De=0.1\n",
    "    kppa=6.4\n",
    "   \n",
    "    phi=R*(kppa/De)**0.5\n",
    "    \n",
    "    etacalc=(3/phi**2)*(phi*(1/np.tanh(phi))-1)\n",
    "    \n",
    "    if (r > 0) :\n",
    "        NA = NArr / r**2\n",
    "    else:\n",
    "        NA = 0\n",
    "      \n",
    "    dCAdr=NA/(-De)\n",
    "    dNArrdr=-kppa*CA*r**2\n",
    "    detadr=3*CA*r**2/(CAs*R**3)\n",
    "    \n",
    "    dYfuncvecdz = [dCAdr, dNArrdr, detadr ] \n",
    "    return dYfuncvecdz"
   ]
  },
  {
   "cell_type": "code",
   "execution_count": 3,
   "metadata": {},
   "outputs": [
    {
     "name": "stdout",
     "output_type": "stream",
     "text": [
      "0\n"
     ]
    }
   ],
   "source": [
    "r=0\n",
    "NArr=2\n",
    "if (r > 0) :\n",
    "    NA = NArr / r**2\n",
    "else:\n",
    "    NA = 0\n",
    "\n",
    "print(NA)"
   ]
  },
  {
   "cell_type": "code",
   "execution_count": 4,
   "metadata": {},
   "outputs": [
    {
     "name": "stdout",
     "output_type": "stream",
     "text": [
      "[-0.0, -0.32000000000000006, 6.000000000000001]\n",
      "[0.2, 0, 0]\n"
     ]
    }
   ],
   "source": [
    "#test of function ODEfun with the addition of Qx\n",
    "tspan = (0,0.5) # Range for the independent variable \n",
    "y0 = [ 0.2, 0, 0] # Initial values for the dependent variables\n",
    "#we will get CA=.029315\n",
    "sol=ODEfun(tspan[1],y0)\n",
    "print (sol)\n",
    "print(y0)"
   ]
  },
  {
   "cell_type": "code",
   "execution_count": 5,
   "metadata": {},
   "outputs": [
    {
     "name": "stdout",
     "output_type": "stream",
     "text": [
      "           y     dy/dt         \n",
      "       0.20      -0.00\n",
      "\n",
      "  message: 'The solver successfully reached the end of the integration interval.'\n",
      "     nfev: 62\n",
      "     njev: 0\n",
      "      nlu: 0\n",
      "      sol: None\n",
      "   status: 0\n",
      "  success: True\n",
      "        t: array([0.00000000e+00, 1.00000000e-04, 1.10000000e-03, 1.11000000e-02,\n",
      "       5.17321179e-02, 9.91473460e-02, 1.64618095e-01, 2.48546913e-01,\n",
      "       3.50161996e-01, 4.67370357e-01, 5.00000000e-01])\n",
      " t_events: None\n",
      "        y: array([[ 2.00000000e-01,  2.00000021e-01,  2.00002581e-01,\n",
      "         2.00262963e-01,  2.05760336e-01,  2.21643973e-01,\n",
      "         2.63042838e-01,  3.60444829e-01,  5.85660404e-01,\n",
      "         1.12419973e+00,  1.36462670e+00],\n",
      "       [ 0.00000000e+00, -4.26666694e-13, -5.67897740e-10,\n",
      "        -5.83983877e-07, -6.00914806e-05, -4.42617578e-04,\n",
      "        -2.25471503e-03, -9.53586636e-03, -3.73700867e-02,\n",
      "        -1.44159573e-01, -2.04899720e-01],\n",
      "       [ 0.00000000e+00,  8.00000051e-12,  1.06480826e-08,\n",
      "         1.09496977e-05,  1.12671526e-03,  8.29907958e-03,\n",
      "         4.22759068e-02,  1.78797494e-01,  7.00689126e-01,\n",
      "         2.70299200e+00,  3.84186975e+00]])\n",
      " y_events: None\n"
     ]
    }
   ],
   "source": [
    "#input the first 2 guesses for the secant method\n",
    "print('           y     dy/dt         ')\n",
    "sol=ODEfun(tspan[0],y0) \n",
    "print('    {:7.2f}    {:7.2f}\\n'.format(y0[0],sol[0]))\n",
    "sol=solve_ivp(ODEfun,tspan,y0)#solve the ODE \n",
    "print(sol)"
   ]
  },
  {
   "cell_type": "code",
   "execution_count": 37,
   "metadata": {},
   "outputs": [
    {
     "name": "stdout",
     "output_type": "stream",
     "text": [
      "   Point. No.    y0            f(0)     CAsurface\n",
      "   1             0.100       0.4823     0.6823\n",
      "   2             0.050       0.1411     0.3411\n",
      "   3          0.02931422   -1.4594e-07  0.2000\n"
     ]
    }
   ],
   "source": [
    "#Test Cell\n",
    "CAs=0.2\n",
    "#initialize arrays\n",
    "yini=np.zeros(21)\n",
    "f=np.zeros(21)\n",
    "#input the first 2 guesses of CA at r=0 for the secant method\n",
    "yini[0]=.1\n",
    "yini[1]=.05\n",
    "#CA is the first element of the y0 array\n",
    "y0 = [yini[0],0,0] # Initial values for the dependent variables\n",
    "print('   Point. No.    y0            f(0)     CAsurface')\n",
    "k=0 #python starts arrays at 0\n",
    "sol=solve_ivp(ODEfun,tspan,y0,rtol=1e-6)\n",
    "#This is the condition that must be zero or at least less than 1E-6\n",
    "#The conditon below using the -1 is looking for the last value of CA at r=R\n",
    "f[k] = sol.y[0,-1] - CAs\n",
    "print('   {:d}          {:8.3f}     {:8.4f}     {:6.4f}'.format(k+1, yini[k], f[k], sol.y[0,-1]))\n",
    "k=1\n",
    "y0 = [yini[k],0,0]\n",
    "sol=solve_ivp(ODEfun,tspan,y0,rtol=1e-6)#solve the ODE with second y0\n",
    "f[k] = sol.y[0,-1]-CAs\n",
    "\n",
    "print('   {:d}          {:8.3f}     {:8.4f}     {:6.4f}'.format(k+1, yini[k], f[k], sol.y[0,-1]))\n",
    "err=np.abs(f[k])\n",
    "\n",
    "while (err>1e-6 and k<20): #multiple iterations to get err<1e-6\n",
    "    yini[k+1]= yini[k]-f[k]*(yini[k]-yini[k-1])/(f[k]-f[k-1])\n",
    "    y0 = [yini[k+1],0,0]\n",
    "    sol=solve_ivp(ODEfun,tspan,y0,rtol=1e-6)\n",
    "\n",
    "    f[k+1] = sol.y[0,-1]-CAs\n",
    "    \n",
    "    print('   {:d}          {:8.8f}   {:11.4e}  {:6.4f}'.format(k+2, yini[k+1], f[k+1], sol.y[0,-1]))\n",
    "    err=np.abs(f[k+1])\n",
    "    k=k+1\n"
   ]
  },
  {
   "cell_type": "code",
   "execution_count": 34,
   "metadata": {},
   "outputs": [
    {
     "name": "stdout",
     "output_type": "stream",
     "text": [
      "at r=0 CA=0.0293 mol/cm^3\n"
     ]
    }
   ],
   "source": [
    "print('at r=0 CA={:5.4f} mol/cm^3'.format(sol.y[0,0]) )"
   ]
  },
  {
   "cell_type": "code",
   "execution_count": 51,
   "metadata": {},
   "outputs": [
    {
     "name": "stdout",
     "output_type": "stream",
     "text": [
      "4.0 0.5631190080825816 0.5630033628012618\n"
     ]
    }
   ],
   "source": [
    "#printing of the results\n",
    "CAs=0.2\n",
    "R=0.5\n",
    "De=0.1\n",
    "kppa=6.4\n",
    "\n",
    "phi=R*(kppa/De)**0.5\n",
    "\n",
    "etacalc=(3/phi**2)*(phi*(1/np.tanh(phi))-1)\n",
    "print(phi,sol.y[2,-1],etacalc)"
   ]
  },
  {
   "cell_type": "code",
   "execution_count": 60,
   "metadata": {},
   "outputs": [
    {
     "name": "stdout",
     "output_type": "stream",
     "text": [
      "Solution \n",
      "    r            CA       CAanal        NAr^2  \n",
      "  (m)       (kmol/$m^3$) (kmol/$m^3$)   (kmol/s)                                         \n",
      "0.0000e+00     0.0293     0.0293    0.0000e+00 \n",
      "5.0505e-03     0.0293     0.0293    -8.0563e-09 \n",
      "1.0101e-02     0.0293     0.0293    -6.4493e-08 \n",
      "1.5152e-02     0.0294     0.0294    -2.1746e-07 \n",
      "2.0202e-02     0.0294     0.0294    -5.1498e-07 \n",
      "2.5253e-02     0.0295     0.0295    -1.0066e-06 \n",
      "3.0303e-02     0.0296     0.0296    -1.7429e-06 \n",
      "3.5354e-02     0.0297     0.0297    -2.7754e-06 \n",
      "4.0404e-02     0.0298     0.0298    -4.1565e-06 \n",
      "4.5455e-02     0.0300     0.0300    -5.9397e-06 \n",
      "5.0505e-02     0.0301     0.0301    -8.1795e-06 \n",
      "5.5556e-02     0.0303     0.0303    -1.0931e-05 \n",
      "6.0606e-02     0.0305     0.0305    -1.4251e-05 \n",
      "6.5657e-02     0.0307     0.0307    -1.8197e-05 \n",
      "7.0707e-02     0.0309     0.0309    -2.2827e-05 \n",
      "7.5758e-02     0.0311     0.0311    -2.8208e-05 \n",
      "8.0808e-02     0.0314     0.0314    -3.4405e-05 \n",
      "8.5859e-02     0.0317     0.0317    -4.1485e-05 \n",
      "9.0909e-02     0.0320     0.0320    -4.9521e-05 \n",
      "9.5960e-02     0.0323     0.0323    -5.8585e-05 \n",
      "1.0101e-01     0.0326     0.0326    -6.8758e-05 \n",
      "1.0606e-01     0.0330     0.0330    -8.0120e-05 \n",
      "1.1111e-01     0.0333     0.0333    -9.2757e-05 \n",
      "1.1616e-01     0.0337     0.0337    -1.0676e-04 \n",
      "1.2121e-01     0.0341     0.0341    -1.2221e-04 \n",
      "1.2626e-01     0.0346     0.0346    -1.3922e-04 \n",
      "1.3131e-01     0.0350     0.0350    -1.5787e-04 \n",
      "1.3636e-01     0.0355     0.0355    -1.7829e-04 \n",
      "1.4141e-01     0.0360     0.0360    -2.0058e-04 \n",
      "1.4646e-01     0.0365     0.0365    -2.2485e-04 \n",
      "1.5152e-01     0.0370     0.0370    -2.5123e-04 \n",
      "1.5657e-01     0.0376     0.0376    -2.7985e-04 \n",
      "1.6162e-01     0.0382     0.0382    -3.1085e-04 \n",
      "1.6667e-01     0.0388     0.0388    -3.4437e-04 \n",
      "1.7172e-01     0.0394     0.0394    -3.8057e-04 \n",
      "1.7677e-01     0.0401     0.0401    -4.1960e-04 \n",
      "1.8182e-01     0.0408     0.0408    -4.6164e-04 \n",
      "1.8687e-01     0.0415     0.0415    -5.0687e-04 \n",
      "1.9192e-01     0.0423     0.0423    -5.5547e-04 \n",
      "1.9697e-01     0.0430     0.0430    -6.0763e-04 \n",
      "2.0202e-01     0.0439     0.0439    -6.6355e-04 \n",
      "2.0707e-01     0.0447     0.0447    -7.2345e-04 \n",
      "2.1212e-01     0.0456     0.0456    -7.8754e-04 \n",
      "2.1717e-01     0.0465     0.0465    -8.5607e-04 \n",
      "2.2222e-01     0.0474     0.0474    -9.2929e-04 \n",
      "2.2727e-01     0.0484     0.0484    -1.0075e-03 \n",
      "2.3232e-01     0.0494     0.0494    -1.0908e-03 \n",
      "2.3737e-01     0.0504     0.0504    -1.1797e-03 \n",
      "2.4242e-01     0.0515     0.0515    -1.2745e-03 \n",
      "2.4747e-01     0.0526     0.0526    -1.3753e-03 \n",
      "2.5253e-01     0.0537     0.0537    -1.4827e-03 \n",
      "2.5758e-01     0.0549     0.0549    -1.5969e-03 \n",
      "2.6263e-01     0.0562     0.0562    -1.7183e-03 \n",
      "2.6768e-01     0.0575     0.0575    -1.8474e-03 \n",
      "2.7273e-01     0.0588     0.0588    -1.9846e-03 \n",
      "2.7778e-01     0.0602     0.0602    -2.1303e-03 \n",
      "2.8283e-01     0.0616     0.0616    -2.2849e-03 \n",
      "2.8788e-01     0.0630     0.0630    -2.4490e-03 \n",
      "2.9293e-01     0.0646     0.0646    -2.6231e-03 \n",
      "2.9798e-01     0.0661     0.0661    -2.8076e-03 \n",
      "3.0303e-01     0.0678     0.0677    -3.0031e-03 \n",
      "3.0808e-01     0.0694     0.0694    -3.2102e-03 \n",
      "3.1313e-01     0.0712     0.0712    -3.4295e-03 \n",
      "3.1818e-01     0.0730     0.0730    -3.6616e-03 \n",
      "3.2323e-01     0.0748     0.0748    -3.9073e-03 \n",
      "3.2828e-01     0.0767     0.0767    -4.1672e-03 \n",
      "3.3333e-01     0.0787     0.0787    -4.4421e-03 \n",
      "3.3838e-01     0.0808     0.0808    -4.7328e-03 \n",
      "3.4343e-01     0.0829     0.0829    -5.0400e-03 \n",
      "3.4848e-01     0.0851     0.0851    -5.3647e-03 \n",
      "3.5354e-01     0.0874     0.0874    -5.7078e-03 \n",
      "3.5859e-01     0.0897     0.0897    -6.0703e-03 \n",
      "3.6364e-01     0.0921     0.0921    -6.4533e-03 \n",
      "3.6869e-01     0.0947     0.0946    -6.8578e-03 \n",
      "3.7374e-01     0.0972     0.0972    -7.2850e-03 \n",
      "3.7879e-01     0.0999     0.0999    -7.7361e-03 \n",
      "3.8384e-01     0.1027     0.1027    -8.2123e-03 \n",
      "3.8889e-01     0.1056     0.1055    -8.7150e-03 \n",
      "3.9394e-01     0.1085     0.1085    -9.2455e-03 \n",
      "3.9899e-01     0.1116     0.1116    -9.8051e-03 \n",
      "4.0404e-01     0.1147     0.1147    -1.0395e-02 \n",
      "4.0909e-01     0.1180     0.1180    -1.1018e-02 \n",
      "4.1414e-01     0.1214     0.1214    -1.1674e-02 \n",
      "4.1919e-01     0.1249     0.1249    -1.2365e-02 \n",
      "4.2424e-01     0.1285     0.1285    -1.3094e-02 \n",
      "4.2929e-01     0.1322     0.1322    -1.3861e-02 \n",
      "4.3434e-01     0.1361     0.1361    -1.4670e-02 \n",
      "4.3939e-01     0.1401     0.1401    -1.5522e-02 \n",
      "4.4444e-01     0.1442     0.1442    -1.6419e-02 \n",
      "4.4949e-01     0.1485     0.1485    -1.7364e-02 \n",
      "4.5455e-01     0.1529     0.1529    -1.8359e-02 \n",
      "4.5960e-01     0.1575     0.1574    -1.9407e-02 \n",
      "4.6465e-01     0.1622     0.1622    -2.0510e-02 \n",
      "4.6970e-01     0.1671     0.1670    -2.1671e-02 \n",
      "4.7475e-01     0.1721     0.1721    -2.2894e-02 \n",
      "4.7980e-01     0.1773     0.1773    -2.4180e-02 \n",
      "4.8485e-01     0.1827     0.1827    -2.5534e-02 \n",
      "4.8990e-01     0.1883     0.1883    -2.6958e-02 \n",
      "4.9495e-01     0.1941     0.1940    -2.8457e-02 \n",
      "5.0000e-01     0.2000     0.2000    -3.0033e-02 \n"
     ]
    }
   ],
   "source": [
    "numrows=100\n",
    "teval=np.linspace(tspan[0],tspan[1],numrows)\n",
    "sol=solve_ivp(ODEfun,tspan,y0,t_eval=teval)\n",
    "print('Solution ')\n",
    "print('    r            CA       CAanal        NAr^2  ')\n",
    "print('  (m)       (kmol/$m^3$) (kmol/$m^3$)   (kmol/s)                                         ')\n",
    "CAanal=np.zeros(numrows)\n",
    "\n",
    "row=0\n",
    "for row in range(numrows):\n",
    "    \n",
    "    CAanal[row]= 0.0293 if sol.t[row] <1e-7 else 0.2*R/sol.t[row]*np.sinh(phi*sol.t[row]/R)/np.sinh(phi)\n",
    "    \n",
    "    print('{:4.4e} {:10.4f} {:10.4f}    {:10.4e} '.format(sol.t[row],\n",
    "                    sol.y[0][row],CAanal[row],sol.y[1][row]))\n"
   ]
  },
  {
   "cell_type": "code",
   "execution_count": 64,
   "metadata": {
    "scrolled": true
   },
   "outputs": [
    {
     "data": {
      "text/plain": [
       "Text(0, 0.5, 'Concentration (mol/$cm^3$)')"
      ]
     },
     "execution_count": 64,
     "metadata": {},
     "output_type": "execute_result"
    },
    {
     "data": {
      "image/png": "[encoded data removed]",
      "text/plain": [
       "<Figure size 432x288 with 1 Axes>"
      ]
     },
     "metadata": {
      "needs_background": "light"
     },
     "output_type": "display_data"
    }
   ],
   "source": [
    "#plot the data\n",
    "\n",
    "plt.plot(sol.t,sol.y[0],':b')\n",
    "plt.plot(sol.t,CAanal,'g', linestyle='--')\n",
    "plt.title(' Concentration Profile in sphere')\n",
    "plt.xlabel('r (m)')\n",
    "plt.ylabel('Concentration (mol/$cm^3$)')\n",
    "\n"
   ]
  },
  {
   "cell_type": "code",
   "execution_count": null,
   "metadata": {},
   "outputs": [],
   "source": []
  }
 ],
 "metadata": {
  "kernelspec": {
   "display_name": "Python 3",
   "language": "python",
   "name": "python3"
  },
  "language_info": {
   "codemirror_mode": {
    "name": "ipython",
    "version": 3
   },
   "file_extension": ".py",
   "mimetype": "text/x-python",
   "name": "python",
   "nbconvert_exporter": "python",
   "pygments_lexer": "ipython3",
   "version": "3.8.8"
  }
 },
 "nbformat": 4,
 "nbformat_minor": 4
}
